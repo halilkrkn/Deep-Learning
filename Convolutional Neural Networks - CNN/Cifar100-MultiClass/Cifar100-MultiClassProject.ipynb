{
 "cells": [
  {
   "cell_type": "markdown",
   "metadata": {},
   "source": [
    "# Cifar100 İle Rastgele Seçilen 5 Classlı CNN Ağı Eğitimi"
   ]
  },
  {
   "cell_type": "markdown",
   "metadata": {},
   "source": [
    "## Gerekli Kütüphanelerin Kurulumu"
   ]
  },
  {
   "cell_type": "code",
   "execution_count": 89,
   "metadata": {},
   "outputs": [],
   "source": [
    "import keras \n",
    "from keras.datasets import cifar100\n",
    "from keras.utils import to_categorical\n",
    "import matplotlib.pyplot as plt\n",
    "import numpy as np\n",
    "import os\n",
    "from keras.preprocessing.image import ImageDataGenerator\n",
    "from keras.models import Sequential\n",
    "from keras.layers import Conv2D, MaxPooling2D,Activation,Dense,Flatten\n",
    "from keras import layers\n",
    "from keras.optimizers import Adam\n",
    "from tensorflow.keras.losses import sparse_categorical_crossentropy"
   ]
  },
  {
   "cell_type": "markdown",
   "metadata": {},
   "source": [
    "## Cifar100 Dataseti içerisindeki Tüm Classlar Proje İçerisinde Oluşturulan Dataset Klasörüne Eklendi."
   ]
  },
  {
   "cell_type": "code",
   "execution_count": 157,
   "metadata": {},
   "outputs": [
    {
     "data": {
      "text/plain": [
       "514838"
      ]
     },
     "execution_count": 157,
     "metadata": {},
     "output_type": "execute_result"
    }
   ],
   "source": [
    "# (x_train, y_train), (x_test, y_test) = cifar100.load_data()\n",
    "\n",
    "# os.mkdir('dataset')\n",
    "# os.mkdir('dataset\\\\train')\n",
    "# os.mkdir('dataset\\\\test')\n",
    "\n",
    "# for i in range(100):\n",
    "#     path=os.path.join('dataset\\\\train',str(i))\n",
    "#     os.mkdir(path)\n",
    "#     path=os.path.join('dataset\\\\test',str(i))\n",
    "#     os.mkdir(path)\n",
    "\n",
    "# import matplotlib.pyplot as plt\n",
    "# for i in range(50000):\n",
    "#     path='dataset/train/'+str(int(y_train[i]))+'/'+str(i)+'.png'  \n",
    "#     plt.imsave(path,x_train[i])\n",
    "    \n",
    "# for i in range(10000):\n",
    "#     path='dataset/test/'+str(int(y_test[i]))+'/'+str(i)+'.png'  \n",
    "#     plt.imsave(path,x_test[i])\n"
   ]
  },
  {
   "cell_type": "markdown",
   "metadata": {},
   "source": [
    "## Cifar100 Load Edilip İçerisinden Gerekli Classlar Çekildi."
   ]
  },
  {
   "cell_type": "code",
   "execution_count": 161,
   "metadata": {},
   "outputs": [],
   "source": [
    "# (x_train, y_train), (x_test, y_test) = cifar100.load_data()\n",
    "\n",
    "# # train seti işlemleri\n",
    "# y_train_crab = np.count_nonzero(y_train==26)\n",
    "# y_train_elephant = np.count_nonzero(y_train==31)\n",
    "# y_train_forest = np.count_nonzero(y_train==33)\n",
    "# y_train_pine_tree = np.count_nonzero(y_train==59)\n",
    "# y_train_tiger = np.count_nonzero(y_train==88)\n",
    "\n",
    "# print('total training crab images:', y_train_crab)\n",
    "# print('total training elephant images:', y_train_elephant)\n",
    "# print('total training forest images:', y_train_forest)\n",
    "# print('total training pine_tree images:', y_train_pine_tree)\n",
    "# print('total training tiger images:', y_train_tiger)\n",
    "\n",
    "# # test seti işlemleri\n",
    "# y_test_crab = np.count_nonzero(y_test==26)\n",
    "# y_test_elephant = np.count_nonzero(y_test==31)\n",
    "# y_test_forest = np.count_nonzero(y_test==33)\n",
    "# y_test_pine_tree = np.count_nonzero(y_test==59)\n",
    "# y_test_tiger = np.count_nonzero(y_test==88)\n",
    "\n",
    "# print(\"\\n**************************************************************************\\n\")\n",
    "\n",
    "# print('total testing crab images:', y_test_crab)\n",
    "# print('total testing elephant images:', y_test_elephant)\n",
    "# print('total testing forest images:', y_test_forest)\n",
    "# print('total testing pine_tree images:', y_test_pine_tree)\n",
    "# print('total testing tiger images:', y_test_tiger)\n",
    "\n",
    "\n",
    "# #min-max normalization işlemi yapıldı.\n",
    "# x_test = x_test / 255\n",
    "# x_train = x_train / 255"
   ]
  },
  {
   "cell_type": "markdown",
   "metadata": {},
   "source": [
    "## Cifar100 Datasetini Proje Dosyası İçerisindeki Datasete Gerekli Klasör Oluşturularak Classlar Eklendi"
   ]
  },
  {
   "cell_type": "code",
   "execution_count": 106,
   "metadata": {},
   "outputs": [
    {
     "name": "stdout",
     "output_type": "stream",
     "text": [
      "total training crab images: 500\n",
      "total training elephant images: 500\n",
      "total training forest images: 500\n",
      "total training pine_tree images: 500\n",
      "total training tiger images: 500\n",
      "\n",
      "**************************************************************************\n",
      "\n",
      "total testing crab images: 101\n",
      "total testing elephant images: 100\n",
      "total testing forest images: 100\n",
      "total testing pine_tree images: 100\n",
      "total testing tiger images: 100\n"
     ]
    }
   ],
   "source": [
    "base_dir = 'C:\\\\Users\\\\halil\\\\GitHub\\\\Deep-Learning\\\\Cifar-100-MultiClass\\\\dataset' # Ana klasör içerisindeki dataset klasörünün yolu\n",
    "train_dir = os.path.join(base_dir, 'train') # dataset klasörü içerisindeki train sınıflarının yolu\n",
    "test_dir = os.path.join(base_dir, 'test') # dataset klasörü içerisindeki test sınıflarının yolu\n",
    "\n",
    "\n",
    "# Train (Eğitim) setindeki sınıfların klasörleri içerisindeki toplam image verileri\n",
    "train_crab_dir = os.path.join(train_dir, 'crab')\n",
    "train_elephant_dir = os.path.join(train_dir, 'elephant')\n",
    "train_forest_dir = os.path.join(train_dir, 'forest')\n",
    "train_pine_tree_dir = os.path.join(train_dir, 'pine_tree')\n",
    "train_tiger_dir = os.path.join(train_dir, 'tiger')\n",
    "\n",
    "print('total training crab images:', len(os.listdir(train_crab_dir)))\n",
    "print('total training elephant images:', len(os.listdir(train_elephant_dir)))\n",
    "print('total training forest images:', len(os.listdir(train_forest_dir)))\n",
    "print('total training pine_tree images:', len(os.listdir(train_pine_tree_dir)))\n",
    "print('total training tiger images:', len(os.listdir(train_tiger_dir)))\n",
    "\n",
    "# Test setindeki sınıfların klasörleri içerisindeki toplam image verileri\n",
    "print(\"\\n**************************************************************************\\n\")\n",
    "test_crab_dir = os.path.join(test_dir, 'crab')\n",
    "test_elephant_dir = os.path.join(test_dir, 'elephant')\n",
    "test_forest_dir = os.path.join(test_dir, 'forest')\n",
    "test_pine_tree_dir = os.path.join(test_dir, 'pine_tree')\n",
    "test_tiger_dir = os.path.join(test_dir, 'tiger')\n",
    "\n",
    "print('total testing crab images:', len(os.listdir(test_crab_dir)))\n",
    "print('total testing elephant images:', len(os.listdir(test_elephant_dir)))\n",
    "print('total testing forest images:', len(os.listdir(test_forest_dir)))\n",
    "print('total testing pine_tree images:', len(os.listdir(test_pine_tree_dir)))\n",
    "print('total testing tiger images:', len(os.listdir(test_tiger_dir)))"
   ]
  },
  {
   "cell_type": "markdown",
   "metadata": {},
   "source": [
    "## CNN Modeli Oluşturma"
   ]
  },
  {
   "cell_type": "code",
   "execution_count": 110,
   "metadata": {},
   "outputs": [],
   "source": [
    "model = Sequential()\n",
    "model.add(layers.Conv2D(32,\n",
    "                kernel_size = (3,3),\n",
    "                activation = \"relu\",\n",
    "                input_shape = (32,32,3)))\n",
    "model.add(MaxPooling2D())\n",
    "model.add(layers.Conv2D(64,\n",
    "                kernel_size = (3,3),\n",
    "                activation = \"relu\",\n",
    "                ))\n",
    "model.add(MaxPooling2D())\n",
    "model.add(layers.Conv2D(128,\n",
    "                       kernel_size = (3,3),\n",
    "                       activation = \"relu\"))\n",
    "model.add(MaxPooling2D())\n",
    "model.add(layers.Conv2D(128,\n",
    "                       kernel_size = (3,3),\n",
    "                       activation = \"relu\"))\n",
    "model.add(MaxPooling2D())\n",
    "model.add(layers.Flatten())\n",
    "model.add(Dense())"
   ]
  },
  {
   "cell_type": "code",
   "execution_count": null,
   "metadata": {},
   "outputs": [],
   "source": []
  },
  {
   "cell_type": "code",
   "execution_count": null,
   "metadata": {},
   "outputs": [],
   "source": []
  },
  {
   "cell_type": "code",
   "execution_count": null,
   "metadata": {},
   "outputs": [],
   "source": []
  },
  {
   "cell_type": "code",
   "execution_count": null,
   "metadata": {},
   "outputs": [],
   "source": []
  }
 ],
 "metadata": {
  "kernelspec": {
   "display_name": "Python 3",
   "language": "python",
   "name": "python3"
  },
  "language_info": {
   "codemirror_mode": {
    "name": "ipython",
    "version": 3
   },
   "file_extension": ".py",
   "mimetype": "text/x-python",
   "name": "python",
   "nbconvert_exporter": "python",
   "pygments_lexer": "ipython3",
   "version": "3.8.5"
  }
 },
 "nbformat": 4,
 "nbformat_minor": 4
}
