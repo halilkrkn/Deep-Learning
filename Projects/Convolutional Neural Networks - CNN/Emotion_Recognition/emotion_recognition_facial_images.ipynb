{
 "cells": [
  {
   "cell_type": "markdown",
   "id": "81895bd5-ed2f-4719-ab4e-6e45b81294e5",
   "metadata": {},
   "source": [
    "# Emotion Recognition with Facial Images - Yüz Görüntüleri ile Duygu Tanıma"
   ]
  },
  {
   "cell_type": "markdown",
   "id": "89f31da1-fe7b-4ae5-9b8b-af9b14085175",
   "metadata": {},
   "source": [
    "## Gerekli Kütüphanelerin Yüklenmesi"
   ]
  },
  {
   "cell_type": "code",
   "execution_count": 1,
   "id": "76ee3b1e-099e-4d25-83c3-99fd6fcfe920",
   "metadata": {},
   "outputs": [],
   "source": [
    "import numpy as np\n",
    "import pandas as pd\n",
    "from matplotlib import pyplot as plt\n",
    "%matplotlib inline\n",
    "\n",
    "import keras\n",
    "from keras.models import Sequential, Model, model_from_json\n",
    "from keras.layers import Dense, Conv2D, Activation, MaxPool2D, Flatten, Dropout, BatchNormalization\n",
    "from keras.utils import np_utils\n",
    "from keras.preprocessing import image\n",
    "from keras.callbacks import ModelCheckpoint"
   ]
  },
  {
   "cell_type": "markdown",
   "id": "dddca80f-946f-4b0e-bf30-1ec665359bd2",
   "metadata": {},
   "source": [
    "## Veri Setinin Eklenmesi"
   ]
  },
  {
   "cell_type": "code",
   "execution_count": null,
   "id": "11de9d1a-1ce2-4f22-9aa9-ead619e9919e",
   "metadata": {},
   "outputs": [],
   "source": []
  }
 ],
 "metadata": {
  "kernelspec": {
   "display_name": "Python 3",
   "language": "python",
   "name": "python3"
  },
  "language_info": {
   "codemirror_mode": {
    "name": "ipython",
    "version": 3
   },
   "file_extension": ".py",
   "mimetype": "text/x-python",
   "name": "python",
   "nbconvert_exporter": "python",
   "pygments_lexer": "ipython3",
   "version": "3.6.13"
  }
 },
 "nbformat": 4,
 "nbformat_minor": 5
}
